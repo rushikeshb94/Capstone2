{
 "cells": [
  {
   "cell_type": "code",
   "execution_count": 60,
   "id": "e9d7684e",
   "metadata": {},
   "outputs": [],
   "source": [
    "#Relevant libraries\n",
    "import pandas as pd\n",
    "import numpy as np\n",
    "import seaborn as sns\n",
    "import xgboost as xgb\n",
    "from sklearn.model_selection import train_test_split\n",
    "from sklearn.feature_extraction.text import TfidfVectorizer\n",
    "import pickle\n",
    "import requests"
   ]
  },
  {
   "cell_type": "code",
   "execution_count": 2,
   "id": "d1f4b848",
   "metadata": {},
   "outputs": [],
   "source": [
    "#importing the data\n",
    "df = pd.read_csv('../data/train_tweets.csv')"
   ]
  },
  {
   "cell_type": "code",
   "execution_count": 3,
   "id": "b709b229",
   "metadata": {},
   "outputs": [
    {
     "data": {
      "text/plain": [
       "0"
      ]
     },
     "execution_count": 3,
     "metadata": {},
     "output_type": "execute_result"
    }
   ],
   "source": [
    "df.duplicated().sum()"
   ]
  },
  {
   "cell_type": "code",
   "execution_count": 4,
   "id": "b73aeccb",
   "metadata": {},
   "outputs": [],
   "source": [
    "#splitting into train and test datasets\n",
    "X_train, X_test, y_train, y_test = train_test_split(df.drop(columns='cyberbullying_type'), \n",
    "                                                    df.cyberbullying_type, test_size=0.3, \n",
    "                                                    random_state=47, stratify = df.cyberbullying_type, shuffle=True)"
   ]
  },
  {
   "cell_type": "code",
   "execution_count": 5,
   "id": "16a64f7a",
   "metadata": {},
   "outputs": [
    {
     "name": "stdout",
     "output_type": "stream",
     "text": [
      "(30387, 1) (13024, 1) (30387,) (13024,)\n"
     ]
    }
   ],
   "source": [
    "print(X_train.shape, X_test.shape, y_train.shape, y_test.shape)"
   ]
  },
  {
   "cell_type": "code",
   "execution_count": 6,
   "id": "ae5b70b0",
   "metadata": {},
   "outputs": [],
   "source": [
    "#Encoding the text data\n",
    "tv = TfidfVectorizer(max_features=5000, ngram_range = (1,3))\n"
   ]
  },
  {
   "cell_type": "code",
   "execution_count": 7,
   "id": "99ab30c5",
   "metadata": {},
   "outputs": [],
   "source": [
    "# Feature Extraction\n",
    "X_train_tfidf = tv.fit_transform(X_train['cleaned_tweets'])  # Creating the vocabulary only from the training set to avoid data leakage from \n",
    "X_test_tfidf = tv.transform(X_test['cleaned_tweets'])        # the test set."
   ]
  },
  {
   "cell_type": "code",
   "execution_count": 8,
   "id": "b3eb5f19",
   "metadata": {},
   "outputs": [
    {
     "data": {
      "text/plain": [
       "<30387x5000 sparse matrix of type '<class 'numpy.float64'>'\n",
       "\twith 392829 stored elements in Compressed Sparse Row format>"
      ]
     },
     "execution_count": 8,
     "metadata": {},
     "output_type": "execute_result"
    }
   ],
   "source": [
    "X_train_tfidf"
   ]
  },
  {
   "cell_type": "code",
   "execution_count": 9,
   "id": "a0c1861e",
   "metadata": {},
   "outputs": [
    {
     "data": {
      "text/plain": [
       "<13024x5000 sparse matrix of type '<class 'numpy.float64'>'\n",
       "\twith 165610 stored elements in Compressed Sparse Row format>"
      ]
     },
     "execution_count": 9,
     "metadata": {},
     "output_type": "execute_result"
    }
   ],
   "source": [
    "X_test_tfidf"
   ]
  },
  {
   "cell_type": "code",
   "execution_count": 10,
   "id": "8524ba90",
   "metadata": {},
   "outputs": [],
   "source": [
    "#Training a XGBoost classifier\n",
    "\n",
    "#initialize\n",
    "xgb_cl = xgb.XGBClassifier()\n",
    "\n",
    "#fit\n",
    "xgb_cl.fit(X_train_tfidf, y_train)\n",
    "\n",
    "\n",
    "#predict\n",
    "y_preds = xgb_cl.predict(X_test_tfidf)"
   ]
  },
  {
   "cell_type": "code",
   "execution_count": 11,
   "id": "cfb53574",
   "metadata": {},
   "outputs": [
    {
     "name": "stdout",
     "output_type": "stream",
     "text": [
      "              precision    recall  f1-score   support\n",
      "\n",
      "           0       0.69      0.51      0.59      1884\n",
      "           1       0.92      0.85      0.88      2262\n",
      "           2       0.96      0.95      0.95      2385\n",
      "           3       0.98      0.98      0.98      2369\n",
      "           4       0.99      0.98      0.99      2350\n",
      "           5       0.58      0.82      0.68      1774\n",
      "\n",
      "    accuracy                           0.86     13024\n",
      "   macro avg       0.86      0.85      0.85     13024\n",
      "weighted avg       0.87      0.86      0.86     13024\n",
      "\n"
     ]
    }
   ],
   "source": [
    "#Classification report\n",
    "from sklearn.metrics import classification_report\n",
    "print(classification_report(y_test, y_preds))"
   ]
  },
  {
   "cell_type": "code",
   "execution_count": 12,
   "id": "1b641c7a",
   "metadata": {},
   "outputs": [
    {
     "data": {
      "text/plain": [
       "0.9806576789537736"
      ]
     },
     "execution_count": 12,
     "metadata": {},
     "output_type": "execute_result"
    }
   ],
   "source": [
    "#roc_auc score\n",
    "\n",
    "from sklearn.metrics import roc_auc_score\n",
    "\n",
    "# Generate class membership probabilities\n",
    "y_preds_probs = xgb_cl.predict_proba(X_test_tfidf)\n",
    "\n",
    "roc_auc_score(y_test, y_preds_probs, average=\"weighted\", multi_class=\"ovr\")"
   ]
  },
  {
   "cell_type": "code",
   "execution_count": 10,
   "id": "92ae6b87",
   "metadata": {},
   "outputs": [],
   "source": [
    "#Scaling the data\n",
    "from sklearn.preprocessing import StandardScaler\n",
    "scaler = StandardScaler()\n",
    "X_train_tfidf_array = X_train_tfidf.toarray()   \n",
    "X_test_tfidf_array = X_test_tfidf.toarray()     \n",
    "X_train_tfidf_scaled = scaler.fit_transform(X_train_tfidf_array)  \n",
    "X_test_tfidf_scaled = scaler.transform(X_test_tfidf_array)"
   ]
  },
  {
   "cell_type": "code",
   "execution_count": null,
   "id": "1f03b335",
   "metadata": {},
   "outputs": [],
   "source": [
    "#Training a KNN classifier\n",
    "from sklearn.model_selection import GridSearchCV\n",
    "from sklearn.neighbors import KNeighborsClassifier\n",
    "\n",
    "param_grid = {'n_neighbors':np.arange(2,6)}\n",
    "knn = KNeighborsClassifier()\n",
    "knn_cv= GridSearchCV(knn,param_grid,cv=5)\n",
    "knn_cv.fit(X_train_tfidf_scaled,y_train)\n"
   ]
  },
  {
   "cell_type": "code",
   "execution_count": 16,
   "id": "d12416f3",
   "metadata": {},
   "outputs": [
    {
     "name": "stdout",
     "output_type": "stream",
     "text": [
      "Best Score:0.3788132750465765\n",
      "Best Parameters: {'n_neighbors': 2}\n"
     ]
    }
   ],
   "source": [
    "print(\"Best Score:\" + str(knn_cv.best_score_))\n",
    "print(\"Best Parameters: \" + str(knn_cv.best_params_))"
   ]
  },
  {
   "cell_type": "markdown",
   "id": "b0ddf0b1",
   "metadata": {},
   "source": []
  },
  {
   "cell_type": "code",
   "execution_count": 22,
   "id": "09684e5d",
   "metadata": {},
   "outputs": [],
   "source": [
    "#fitting a knn classifiers to the entire training data\n",
    "from sklearn.neighbors import KNeighborsClassifier\n",
    "knn = KNeighborsClassifier(4)\n",
    "\n",
    "#fit\n",
    "knn.fit(X_train_tfidf_scaled, y_train)\n",
    "\n",
    "#predict\n",
    "y_preds2 = knn.predict(X_test_tfidf_scaled)"
   ]
  },
  {
   "cell_type": "code",
   "execution_count": 23,
   "id": "8dfd8aed",
   "metadata": {},
   "outputs": [
    {
     "name": "stdout",
     "output_type": "stream",
     "text": [
      "              precision    recall  f1-score   support\n",
      "\n",
      "           0       0.24      0.57      0.34      1884\n",
      "           1       0.55      0.44      0.49      2262\n",
      "           2       0.71      0.27      0.39      2385\n",
      "           3       0.78      0.41      0.54      2369\n",
      "           4       0.78      0.53      0.63      2350\n",
      "           5       0.22      0.37      0.27      1774\n",
      "\n",
      "    accuracy                           0.43     13024\n",
      "   macro avg       0.55      0.43      0.45     13024\n",
      "weighted avg       0.57      0.43      0.46     13024\n",
      "\n"
     ]
    }
   ],
   "source": [
    "#Classification report for knn\n",
    "from sklearn.metrics import classification_report\n",
    "print(classification_report(y_test, y_preds2))\n"
   ]
  },
  {
   "cell_type": "code",
   "execution_count": 24,
   "id": "9634fd88",
   "metadata": {},
   "outputs": [
    {
     "data": {
      "text/plain": [
       "0.726635662368493"
      ]
     },
     "execution_count": 24,
     "metadata": {},
     "output_type": "execute_result"
    }
   ],
   "source": [
    "#roc_auc score for knn\n",
    "\n",
    "from sklearn.metrics import roc_auc_score\n",
    "\n",
    "# Generate class membership probabilities\n",
    "y_preds2_probs = knn.predict_proba(X_test_tfidf_scaled)\n",
    "\n",
    "roc_auc_score(y_test, y_preds2_probs, average=\"weighted\", multi_class=\"ovr\")"
   ]
  },
  {
   "cell_type": "code",
   "execution_count": 28,
   "id": "8f90e524",
   "metadata": {},
   "outputs": [
    {
     "name": "stdout",
     "output_type": "stream",
     "text": [
      "              precision    recall  f1-score   support\n",
      "\n",
      "           0       0.66      0.60      0.63      1884\n",
      "           1       0.92      0.85      0.88      2262\n",
      "           2       0.95      0.95      0.95      2385\n",
      "           3       0.95      0.97      0.96      2369\n",
      "           4       0.97      0.98      0.98      2350\n",
      "           5       0.64      0.76      0.69      1774\n",
      "\n",
      "    accuracy                           0.86     13024\n",
      "   macro avg       0.85      0.85      0.85     13024\n",
      "weighted avg       0.86      0.86      0.86     13024\n",
      "\n"
     ]
    },
    {
     "name": "stderr",
     "output_type": "stream",
     "text": [
      "/Users/rushikeshbattulwar/opt/anaconda3/envs/mlops/lib/python3.9/site-packages/sklearn/linear_model/_logistic.py:814: ConvergenceWarning: lbfgs failed to converge (status=1):\n",
      "STOP: TOTAL NO. of ITERATIONS REACHED LIMIT.\n",
      "\n",
      "Increase the number of iterations (max_iter) or scale the data as shown in:\n",
      "    https://scikit-learn.org/stable/modules/preprocessing.html\n",
      "Please also refer to the documentation for alternative solver options:\n",
      "    https://scikit-learn.org/stable/modules/linear_model.html#logistic-regression\n",
      "  n_iter_i = _check_optimize_result(\n"
     ]
    },
    {
     "data": {
      "text/plain": [
       "0.977826325986286"
      ]
     },
     "execution_count": 28,
     "metadata": {},
     "output_type": "execute_result"
    }
   ],
   "source": [
    "from sklearn.linear_model import LogisticRegression\n",
    "LR = LogisticRegression()\n",
    "#fit\n",
    "LR.fit(X_train_tfidf, y_train)\n",
    "#predict\n",
    "y_preds3 = LR.predict(X_test_tfidf)\n",
    "\n",
    "print(classification_report(y_test, y_preds3))\n",
    "\n",
    "# Generate class membership probabilities\n",
    "y_preds3_probs = LR.predict_proba(X_test_tfidf)\n",
    "roc_auc_score(y_test, y_preds3_probs, average=\"weighted\", multi_class=\"ovr\")"
   ]
  },
  {
   "cell_type": "code",
   "execution_count": 15,
   "id": "c9ea47ab",
   "metadata": {},
   "outputs": [],
   "source": [
    "#Saving the best model\n",
    "\n",
    "filename = '../models/TweetClassifier.pkl'\n",
    "pickle.dump(xgb_cl, open(filename, 'wb'))"
   ]
  },
  {
   "cell_type": "code",
   "execution_count": 16,
   "id": "19c736fc",
   "metadata": {},
   "outputs": [],
   "source": [
    "#Saving the vectorizer\n",
    "\n",
    "filename = '../models/TFIDFVectorizer.pkl'\n",
    "pickle.dump(tv, open(filename, 'wb'))"
   ]
  },
  {
   "cell_type": "code",
   "execution_count": 62,
   "id": "ebb2b5fe",
   "metadata": {},
   "outputs": [
    {
     "data": {
      "text/plain": [
       "{'prediction': 'other_cyberbullying', 'confidence': '0.375'}"
      ]
     },
     "execution_count": 62,
     "metadata": {},
     "output_type": "execute_result"
    }
   ],
   "source": [
    "#Testing the REST API for the model\n",
    "\n",
    "url = 'http://127.0.0.1:5000/'\n",
    "params ={'query': 'Going to Africa. Hope I don’t get AIDS. Just kidding. I’m white!'}\n",
    "response = requests.get(url, params)\n",
    "response.json()"
   ]
  },
  {
   "cell_type": "code",
   "execution_count": 61,
   "id": "db8bf006",
   "metadata": {},
   "outputs": [
    {
     "data": {
      "text/plain": [
       "{'prediction': 'religion', 'confidence': '0.889'}"
      ]
     },
     "execution_count": 61,
     "metadata": {},
     "output_type": "execute_result"
    }
   ],
   "source": [
    "\n",
    "params ={'query': 'Muslims should be punished. We are not doing enough to rid us of those filthy animals.'}\n",
    "response = requests.get(url, params)\n",
    "response.json()"
   ]
  },
  {
   "cell_type": "code",
   "execution_count": 64,
   "id": "2f5b7466",
   "metadata": {},
   "outputs": [
    {
     "data": {
      "text/plain": [
       "{'prediction': 'ethnicity', 'confidence': '0.849'}"
      ]
     },
     "execution_count": 64,
     "metadata": {},
     "output_type": "execute_result"
    }
   ],
   "source": [
    "\n",
    "params ={'query':'@hotep shut up you nigga!!'}\n",
    "response = requests.get(url, params)\n",
    "response.json()"
   ]
  },
  {
   "cell_type": "code",
   "execution_count": null,
   "id": "21cdc886",
   "metadata": {},
   "outputs": [],
   "source": []
  }
 ],
 "metadata": {
  "kernelspec": {
   "display_name": "Python 3 (ipykernel)",
   "language": "python",
   "name": "python3"
  },
  "language_info": {
   "codemirror_mode": {
    "name": "ipython",
    "version": 3
   },
   "file_extension": ".py",
   "mimetype": "text/x-python",
   "name": "python",
   "nbconvert_exporter": "python",
   "pygments_lexer": "ipython3",
   "version": "3.9.7"
  }
 },
 "nbformat": 4,
 "nbformat_minor": 5
}
