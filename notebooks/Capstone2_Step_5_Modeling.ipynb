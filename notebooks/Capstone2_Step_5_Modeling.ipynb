{
 "cells": [
  {
   "cell_type": "code",
   "execution_count": 1,
   "id": "e9d7684e",
   "metadata": {},
   "outputs": [],
   "source": [
    "#Relevant libraries\n",
    "import pandas as pd\n",
    "import numpy as np\n",
    "import seaborn as sns\n",
    "import xgboost as xgb\n",
    "from sklearn.model_selection import train_test_split\n"
   ]
  },
  {
   "cell_type": "code",
   "execution_count": 2,
   "id": "d1f4b848",
   "metadata": {},
   "outputs": [],
   "source": [
    "#importing the data\n",
    "\n",
    "df = pd.read_csv('../data/train_tweets.csv')"
   ]
  },
  {
   "cell_type": "code",
   "execution_count": 3,
   "id": "b73aeccb",
   "metadata": {},
   "outputs": [],
   "source": [
    "#splitting into train and test datasets\n",
    "X_train, X_test, y_train, y_test = train_test_split(df.drop(columns='cyberbullying_type'), \n",
    "                                                    df.cyberbullying_type, test_size=0.3, \n",
    "                                                    random_state=47, stratify = df.cyberbullying_type)"
   ]
  },
  {
   "cell_type": "code",
   "execution_count": 8,
   "id": "8524ba90",
   "metadata": {},
   "outputs": [],
   "source": [
    "#Training a XGBoost classifier\n",
    "\n",
    "#initialize\n",
    "xgb_cl = xgb.XGBClassifier()\n",
    "\n",
    "#fit\n",
    "xgb_cl.fit(X_train, y_train)\n",
    "\n",
    "\n",
    "#predict\n",
    "y_preds = xgb_cl.predict(X_test)"
   ]
  },
  {
   "cell_type": "code",
   "execution_count": 9,
   "id": "cfb53574",
   "metadata": {},
   "outputs": [
    {
     "name": "stdout",
     "output_type": "stream",
     "text": [
      "              precision    recall  f1-score   support\n",
      "\n",
      "           0       1.00      1.00      1.00      1925\n",
      "           1       1.00      1.00      1.00      2328\n",
      "           2       1.00      1.00      1.00      2397\n",
      "           3       1.00      1.00      1.00      2398\n",
      "           4       1.00      1.00      1.00      2386\n",
      "           5       1.00      1.00      1.00      1862\n",
      "\n",
      "    accuracy                           1.00     13296\n",
      "   macro avg       1.00      1.00      1.00     13296\n",
      "weighted avg       1.00      1.00      1.00     13296\n",
      "\n"
     ]
    }
   ],
   "source": [
    "#Classification report\n",
    "from sklearn.metrics import classification_report\n",
    "print(classification_report(y_test, y_preds))"
   ]
  },
  {
   "cell_type": "code",
   "execution_count": 11,
   "id": "1b641c7a",
   "metadata": {},
   "outputs": [
    {
     "data": {
      "text/plain": [
       "0.9999906654904139"
      ]
     },
     "execution_count": 11,
     "metadata": {},
     "output_type": "execute_result"
    }
   ],
   "source": [
    "#roc_auc score\n",
    "\n",
    "from sklearn.metrics import roc_auc_score\n",
    "\n",
    "# Generate class membership probabilities\n",
    "y_preds_probs = xgb_cl.predict_proba(X_test)\n",
    "\n",
    "roc_auc_score(y_test, y_preds_probs, average=\"weighted\", multi_class=\"ovr\")"
   ]
  },
  {
   "cell_type": "code",
   "execution_count": 4,
   "id": "1f03b335",
   "metadata": {},
   "outputs": [
    {
     "data": {
      "text/plain": [
       "GridSearchCV(cv=5, estimator=KNeighborsClassifier(),\n",
       "             param_grid={'n_neighbors': array([10, 11, 12, 13, 14, 15, 16, 17, 18, 19, 20, 21, 22, 23, 24, 25, 26,\n",
       "       27, 28, 29, 30, 31, 32, 33, 34, 35, 36, 37, 38, 39, 40, 41, 42, 43,\n",
       "       44, 45, 46, 47, 48, 49])})"
      ]
     },
     "execution_count": 4,
     "metadata": {},
     "output_type": "execute_result"
    }
   ],
   "source": [
    "#Training a KNN classifier\n",
    "from sklearn.model_selection import GridSearchCV\n",
    "from sklearn.neighbors import KNeighborsClassifier\n",
    "\n",
    "param_grid = {'n_neighbors':np.arange(10,50)}\n",
    "knn = KNeighborsClassifier()\n",
    "knn_cv= GridSearchCV(knn,param_grid,cv=5)\n",
    "knn_cv.fit(X_train,y_train)\n"
   ]
  },
  {
   "cell_type": "code",
   "execution_count": 5,
   "id": "d12416f3",
   "metadata": {},
   "outputs": [
    {
     "name": "stdout",
     "output_type": "stream",
     "text": [
      "Best Score:0.9998710717163577\n",
      "Best Parameters: {'n_neighbors': 15}\n"
     ]
    }
   ],
   "source": [
    "print(\"Best Score:\" + str(knn_cv.best_score_))\n",
    "print(\"Best Parameters: \" + str(knn_cv.best_params_))"
   ]
  },
  {
   "cell_type": "markdown",
   "id": "b0ddf0b1",
   "metadata": {},
   "source": [
    "The best value of n_neighbours = 15"
   ]
  },
  {
   "cell_type": "code",
   "execution_count": 13,
   "id": "09684e5d",
   "metadata": {},
   "outputs": [],
   "source": [
    "#fitting a knn classifiers to the entire training data\n",
    "knn = KNeighborsClassifier(15)\n",
    "\n",
    "#fit\n",
    "knn.fit(X_train, y_train)\n",
    "\n",
    "\n",
    "#predict\n",
    "y_preds2 = knn.predict(X_test)"
   ]
  },
  {
   "cell_type": "code",
   "execution_count": 14,
   "id": "8dfd8aed",
   "metadata": {},
   "outputs": [
    {
     "name": "stdout",
     "output_type": "stream",
     "text": [
      "              precision    recall  f1-score   support\n",
      "\n",
      "           0       1.00      1.00      1.00      1925\n",
      "           1       1.00      1.00      1.00      2328\n",
      "           2       1.00      1.00      1.00      2397\n",
      "           3       1.00      1.00      1.00      2398\n",
      "           4       1.00      1.00      1.00      2386\n",
      "           5       1.00      1.00      1.00      1862\n",
      "\n",
      "    accuracy                           1.00     13296\n",
      "   macro avg       1.00      1.00      1.00     13296\n",
      "weighted avg       1.00      1.00      1.00     13296\n",
      "\n"
     ]
    }
   ],
   "source": [
    "#Classification report for knn\n",
    "from sklearn.metrics import classification_report\n",
    "print(classification_report(y_test, y_preds2))\n"
   ]
  },
  {
   "cell_type": "code",
   "execution_count": 15,
   "id": "9634fd88",
   "metadata": {},
   "outputs": [
    {
     "data": {
      "text/plain": [
       "0.9999999967110988"
      ]
     },
     "execution_count": 15,
     "metadata": {},
     "output_type": "execute_result"
    }
   ],
   "source": [
    "#roc_auc score for knn\n",
    "\n",
    "from sklearn.metrics import roc_auc_score\n",
    "\n",
    "# Generate class membership probabilities\n",
    "y_preds2_probs = knn.predict_proba(X_test)\n",
    "\n",
    "roc_auc_score(y_test, y_preds2_probs, average=\"weighted\", multi_class=\"ovr\")"
   ]
  },
  {
   "cell_type": "code",
   "execution_count": 16,
   "id": "8f90e524",
   "metadata": {},
   "outputs": [
    {
     "name": "stdout",
     "output_type": "stream",
     "text": [
      "39053    4\n",
      "22350    5\n",
      "41502    4\n",
      "34556    3\n",
      "37208    4\n",
      "        ..\n",
      "26575    5\n",
      "40847    4\n",
      "33214    3\n",
      "21265    2\n",
      "24324    5\n",
      "Name: cyberbullying_type, Length: 13296, dtype: int64\n"
     ]
    }
   ],
   "source": []
  },
  {
   "cell_type": "code",
   "execution_count": 17,
   "id": "c8c79041",
   "metadata": {},
   "outputs": [
    {
     "name": "stdout",
     "output_type": "stream",
     "text": [
      "2611     0\n",
      "6193     0\n",
      "22975    5\n",
      "34596    3\n",
      "35265    3\n",
      "        ..\n",
      "2498     0\n",
      "41236    4\n",
      "6173     0\n",
      "6501     1\n",
      "7200     1\n",
      "Name: cyberbullying_type, Length: 31024, dtype: int64\n"
     ]
    }
   ],
   "source": []
  },
  {
   "cell_type": "code",
   "execution_count": null,
   "id": "c9ea47ab",
   "metadata": {},
   "outputs": [],
   "source": []
  }
 ],
 "metadata": {
  "kernelspec": {
   "display_name": "Python 3 (ipykernel)",
   "language": "python",
   "name": "python3"
  },
  "language_info": {
   "codemirror_mode": {
    "name": "ipython",
    "version": 3
   },
   "file_extension": ".py",
   "mimetype": "text/x-python",
   "name": "python",
   "nbconvert_exporter": "python",
   "pygments_lexer": "ipython3",
   "version": "3.9.7"
  }
 },
 "nbformat": 4,
 "nbformat_minor": 5
}
